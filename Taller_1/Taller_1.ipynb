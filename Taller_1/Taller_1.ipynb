{
 "cells": [
  {
   "cell_type": "markdown",
   "metadata": {
    "colab_type": "text",
    "id": "view-in-github"
   },
   "source": [
    "<a href=\"https://colab.research.google.com/github/hectormelo/Machine-Learning-Techniques/blob/main/Taller_1/Taller_1.ipynb\" target=\"_parent\"><img src=\"https://colab.research.google.com/assets/colab-badge.svg\" alt=\"Open In Colab\"/></a>"
   ]
  },
  {
   "cell_type": "markdown",
   "metadata": {
    "id": "Q7ffxRZZbhIP"
   },
   "source": [
    "\n",
    "<img src=\"https://bloqueneon.uniandes.edu.co/content/enforced/248650-202410_ISIS4219_01/Laboratorios.png\" ><br>\n",
    "# Machine Learning Techniques - ISIS4219\n",
    "\n",
    "Primer Semestre - 2024\n",
    "\n",
    "\n"
   ]
  },
  {
   "cell_type": "markdown",
   "metadata": {
    "id": "j79las3xZgA1"
   },
   "source": [
    "## Integrantes\n",
    "\n",
    "*   Integrante 1.\n",
    "*   Integrante 2.\n",
    "\n"
   ]
  },
  {
   "cell_type": "markdown",
   "metadata": {
    "id": "lAZL78yfcqCn"
   },
   "source": [
    "## **Problema**\n",
    "\n",
    "Las enfermedades cardiovasculares son la principal causa de muerte en el mundo, y se calcula que cobran 17,9 millones de vidas al año (OMS). La enfermedad de las arterias coronarias es el tipo más común de enfermedad cardíaca y se produce debido a las obstrucciones (placa) desarrolladas en el interior de las arterias coronarias (vasos sanguíneos que alimentan los músculos del corazón). Los cardiólogos utilizan diversas técnicas de imagen y mediciones invasivas de la presión arterial para examinar y controlar la gravedad de dichas obstrucciones. <br>\n",
    "Los factores de riesgo conductuales más importantes de estas enfermedades son una dieta poco saludable, la inactividad física, el consumo de tabaco y el uso nocivo del alcohol. Los efectos de los factores de riesgo pueden manifestarse en las personas en forma de aumento de la presión arterial, aumento de la glucosa en sangre, aumento de los lípidos en sangre y sobrepeso y obesidad.\n",
    "Identificar a las personas con mayor riesgo de sufrir enfermedades cardiovasculares y garantizar que reciban el tratamiento adecuado puede evitar muertes prematuras. Con este objetivo en mente, se quiere utilizar las técnicas de machine learning para construir un modelo que permita predecir qué pacientes pueden estar en riesgo de padecer este tipo de cardiopatía.<br><br>\n",
    "Referencias. <br>\n",
    "\n",
    "\n",
    "\n",
    "OMS (s.f.). “Cardiovascular diseases”. https://www.who.int/health-topics/cardiovascular-diseases#tab=tab_1\n",
    "<br><br>\n",
    "**Fuente de Datos**: https://www.kaggle.com/agsam23/coronary-artery-disease/version/3\n"
   ]
  },
  {
   "cell_type": "markdown",
   "metadata": {
    "id": "EFnxJu_tFCxS"
   },
   "source": [
    "**1. Procesamiento y entendimiento de los datos.**\n",
    "\n",
    "Explore el conjunto de datos proporcionado y prepárelos para el entrenamiento y validación. Dado que este conjunto de datos no incluye un grupo de test, es necesario realizar una división entre entrenamiento y test. Utilice la función train_test_split de sklearn.model_selection para llevar a cabo esta tarea.\n",
    "\n",
    "¿Que particularidades presentan los datos y qué técnicas de preprocesamiento se pueden aplicar?\n",
    "\n"
   ]
  },
  {
   "cell_type": "code",
   "execution_count": null,
   "metadata": {},
   "outputs": [],
   "source": [
    "# Hablar de los datos"
   ]
  },
  {
   "cell_type": "code",
   "execution_count": 3,
   "metadata": {},
   "outputs": [],
   "source": [
    "# Importar librerias\n",
    "\n",
    "#Data management Libraries\n",
    "import pandas as pd\n",
    "import numpy as np\n",
    "import sys\n",
    "from ydata_profiling import ProfileReport\n",
    "\n",
    "\n",
    "# Data Modeling Libraries\n",
    "from sklearn.impute import SimpleImputer\n",
    "from sklearn.preprocessing import OneHotEncoder, OrdinalEncoder, MinMaxScaler, MaxAbsScaler, LabelEncoder\n",
    "from sklearn.model_selection import GridSearchCV\n",
    "from sklearn.linear_model import LogisticRegression\n",
    "from sklearn.pipeline import Pipeline, FeatureUnion\n",
    "from sklearn.metrics import classification_report, confusion_matrix, ConfusionMatrixDisplay\n",
    "from sklearn_features.transformers import DataFrameSelector\n",
    "\n",
    "from sklearn.compose import make_column_selector, ColumnTransformer\n",
    "\n",
    "\n",
    "# Data visualization Libraries\n",
    "import matplotlib.pyplot as plt\n",
    "import seaborn as sns\n",
    "\n",
    "#Save the model\n",
    "from joblib import dump, load"
   ]
  },
  {
   "cell_type": "code",
   "execution_count": 2,
   "metadata": {},
   "outputs": [
    {
     "name": "stdout",
     "output_type": "stream",
     "text": [
      "Requirement already satisfied: pandas in /Users/willy/opt/anaconda3/envs/new_env/lib/python3.10/site-packages (2.2.0)\n",
      "Requirement already satisfied: numpy<2,>=1.22.4 in /Users/willy/opt/anaconda3/envs/new_env/lib/python3.10/site-packages (from pandas) (1.25.2)\n",
      "Requirement already satisfied: python-dateutil>=2.8.2 in /Users/willy/opt/anaconda3/envs/new_env/lib/python3.10/site-packages (from pandas) (2.8.2)\n",
      "Requirement already satisfied: pytz>=2020.1 in /Users/willy/opt/anaconda3/envs/new_env/lib/python3.10/site-packages (from pandas) (2024.1)\n",
      "Requirement already satisfied: tzdata>=2022.7 in /Users/willy/opt/anaconda3/envs/new_env/lib/python3.10/site-packages (from pandas) (2023.4)\n",
      "Requirement already satisfied: six>=1.5 in /Users/willy/opt/anaconda3/envs/new_env/lib/python3.10/site-packages (from python-dateutil>=2.8.2->pandas) (1.16.0)\n",
      "Requirement already satisfied: ydata-profiling in /Users/willy/opt/anaconda3/envs/new_env/lib/python3.10/site-packages (4.6.4)\n",
      "Requirement already satisfied: scipy<1.12,>=1.4.1 in /Users/willy/opt/anaconda3/envs/new_env/lib/python3.10/site-packages (from ydata-profiling) (1.11.4)\n",
      "Requirement already satisfied: pandas!=1.4.0,<3,>1.1 in /Users/willy/opt/anaconda3/envs/new_env/lib/python3.10/site-packages (from ydata-profiling) (2.2.0)\n",
      "Requirement already satisfied: matplotlib<3.9,>=3.2 in /Users/willy/opt/anaconda3/envs/new_env/lib/python3.10/site-packages (from ydata-profiling) (3.8.2)\n",
      "Requirement already satisfied: pydantic>=2 in /Users/willy/opt/anaconda3/envs/new_env/lib/python3.10/site-packages (from ydata-profiling) (2.6.0)\n",
      "Requirement already satisfied: PyYAML<6.1,>=5.0.0 in /Users/willy/opt/anaconda3/envs/new_env/lib/python3.10/site-packages (from ydata-profiling) (6.0.1)\n",
      "Requirement already satisfied: jinja2<3.2,>=2.11.1 in /Users/willy/opt/anaconda3/envs/new_env/lib/python3.10/site-packages (from ydata-profiling) (3.1.3)\n",
      "Requirement already satisfied: visions==0.7.5 in /Users/willy/opt/anaconda3/envs/new_env/lib/python3.10/site-packages (from visions[type_image_path]==0.7.5->ydata-profiling) (0.7.5)\n",
      "Requirement already satisfied: numpy<1.26,>=1.16.0 in /Users/willy/opt/anaconda3/envs/new_env/lib/python3.10/site-packages (from ydata-profiling) (1.25.2)\n",
      "Requirement already satisfied: htmlmin==0.1.12 in /Users/willy/opt/anaconda3/envs/new_env/lib/python3.10/site-packages (from ydata-profiling) (0.1.12)\n",
      "Requirement already satisfied: phik<0.13,>=0.11.1 in /Users/willy/opt/anaconda3/envs/new_env/lib/python3.10/site-packages (from ydata-profiling) (0.12.4)\n",
      "Requirement already satisfied: requests<3,>=2.24.0 in /Users/willy/opt/anaconda3/envs/new_env/lib/python3.10/site-packages (from ydata-profiling) (2.31.0)\n",
      "Requirement already satisfied: tqdm<5,>=4.48.2 in /Users/willy/opt/anaconda3/envs/new_env/lib/python3.10/site-packages (from ydata-profiling) (4.66.1)\n",
      "Requirement already satisfied: seaborn<0.13,>=0.10.1 in /Users/willy/opt/anaconda3/envs/new_env/lib/python3.10/site-packages (from ydata-profiling) (0.12.2)\n",
      "Requirement already satisfied: multimethod<2,>=1.4 in /Users/willy/opt/anaconda3/envs/new_env/lib/python3.10/site-packages (from ydata-profiling) (1.11)\n",
      "Requirement already satisfied: statsmodels<1,>=0.13.2 in /Users/willy/opt/anaconda3/envs/new_env/lib/python3.10/site-packages (from ydata-profiling) (0.14.1)\n",
      "Requirement already satisfied: typeguard<5,>=4.1.2 in /Users/willy/opt/anaconda3/envs/new_env/lib/python3.10/site-packages (from ydata-profiling) (4.1.5)\n",
      "Requirement already satisfied: imagehash==4.3.1 in /Users/willy/opt/anaconda3/envs/new_env/lib/python3.10/site-packages (from ydata-profiling) (4.3.1)\n",
      "Requirement already satisfied: wordcloud>=1.9.1 in /Users/willy/opt/anaconda3/envs/new_env/lib/python3.10/site-packages (from ydata-profiling) (1.9.3)\n",
      "Requirement already satisfied: dacite>=1.8 in /Users/willy/opt/anaconda3/envs/new_env/lib/python3.10/site-packages (from ydata-profiling) (1.8.1)\n",
      "Requirement already satisfied: numba<0.59.0,>=0.56.0 in /Users/willy/opt/anaconda3/envs/new_env/lib/python3.10/site-packages (from ydata-profiling) (0.58.1)\n",
      "Requirement already satisfied: PyWavelets in /Users/willy/opt/anaconda3/envs/new_env/lib/python3.10/site-packages (from imagehash==4.3.1->ydata-profiling) (1.5.0)\n",
      "Requirement already satisfied: pillow in /Users/willy/opt/anaconda3/envs/new_env/lib/python3.10/site-packages (from imagehash==4.3.1->ydata-profiling) (10.2.0)\n",
      "Requirement already satisfied: attrs>=19.3.0 in /Users/willy/opt/anaconda3/envs/new_env/lib/python3.10/site-packages (from visions==0.7.5->visions[type_image_path]==0.7.5->ydata-profiling) (23.2.0)\n",
      "Requirement already satisfied: networkx>=2.4 in /Users/willy/opt/anaconda3/envs/new_env/lib/python3.10/site-packages (from visions==0.7.5->visions[type_image_path]==0.7.5->ydata-profiling) (3.2.1)\n",
      "Requirement already satisfied: tangled-up-in-unicode>=0.0.4 in /Users/willy/opt/anaconda3/envs/new_env/lib/python3.10/site-packages (from visions==0.7.5->visions[type_image_path]==0.7.5->ydata-profiling) (0.2.0)\n",
      "\u001b[33mWARNING: visions 0.7.5 does not provide the extra 'type-image-path'\u001b[0m\u001b[33m\n",
      "\u001b[0mRequirement already satisfied: MarkupSafe>=2.0 in /Users/willy/opt/anaconda3/envs/new_env/lib/python3.10/site-packages (from jinja2<3.2,>=2.11.1->ydata-profiling) (2.1.4)\n",
      "Requirement already satisfied: contourpy>=1.0.1 in /Users/willy/opt/anaconda3/envs/new_env/lib/python3.10/site-packages (from matplotlib<3.9,>=3.2->ydata-profiling) (1.2.0)\n",
      "Requirement already satisfied: cycler>=0.10 in /Users/willy/opt/anaconda3/envs/new_env/lib/python3.10/site-packages (from matplotlib<3.9,>=3.2->ydata-profiling) (0.12.1)\n",
      "Requirement already satisfied: fonttools>=4.22.0 in /Users/willy/opt/anaconda3/envs/new_env/lib/python3.10/site-packages (from matplotlib<3.9,>=3.2->ydata-profiling) (4.47.2)\n",
      "Requirement already satisfied: kiwisolver>=1.3.1 in /Users/willy/opt/anaconda3/envs/new_env/lib/python3.10/site-packages (from matplotlib<3.9,>=3.2->ydata-profiling) (1.4.5)\n",
      "Requirement already satisfied: packaging>=20.0 in /Users/willy/opt/anaconda3/envs/new_env/lib/python3.10/site-packages (from matplotlib<3.9,>=3.2->ydata-profiling) (23.2)\n",
      "Requirement already satisfied: pyparsing>=2.3.1 in /Users/willy/opt/anaconda3/envs/new_env/lib/python3.10/site-packages (from matplotlib<3.9,>=3.2->ydata-profiling) (3.1.1)\n",
      "Requirement already satisfied: python-dateutil>=2.7 in /Users/willy/opt/anaconda3/envs/new_env/lib/python3.10/site-packages (from matplotlib<3.9,>=3.2->ydata-profiling) (2.8.2)\n",
      "Requirement already satisfied: llvmlite<0.42,>=0.41.0dev0 in /Users/willy/opt/anaconda3/envs/new_env/lib/python3.10/site-packages (from numba<0.59.0,>=0.56.0->ydata-profiling) (0.41.1)\n",
      "Requirement already satisfied: pytz>=2020.1 in /Users/willy/opt/anaconda3/envs/new_env/lib/python3.10/site-packages (from pandas!=1.4.0,<3,>1.1->ydata-profiling) (2024.1)\n",
      "Requirement already satisfied: tzdata>=2022.7 in /Users/willy/opt/anaconda3/envs/new_env/lib/python3.10/site-packages (from pandas!=1.4.0,<3,>1.1->ydata-profiling) (2023.4)\n",
      "Requirement already satisfied: joblib>=0.14.1 in /Users/willy/opt/anaconda3/envs/new_env/lib/python3.10/site-packages (from phik<0.13,>=0.11.1->ydata-profiling) (1.3.2)\n",
      "Requirement already satisfied: annotated-types>=0.4.0 in /Users/willy/opt/anaconda3/envs/new_env/lib/python3.10/site-packages (from pydantic>=2->ydata-profiling) (0.6.0)\n",
      "Requirement already satisfied: pydantic-core==2.16.1 in /Users/willy/opt/anaconda3/envs/new_env/lib/python3.10/site-packages (from pydantic>=2->ydata-profiling) (2.16.1)\n",
      "Requirement already satisfied: typing-extensions>=4.6.1 in /Users/willy/opt/anaconda3/envs/new_env/lib/python3.10/site-packages (from pydantic>=2->ydata-profiling) (4.9.0)\n",
      "Requirement already satisfied: charset-normalizer<4,>=2 in /Users/willy/opt/anaconda3/envs/new_env/lib/python3.10/site-packages (from requests<3,>=2.24.0->ydata-profiling) (3.3.2)\n",
      "Requirement already satisfied: idna<4,>=2.5 in /Users/willy/opt/anaconda3/envs/new_env/lib/python3.10/site-packages (from requests<3,>=2.24.0->ydata-profiling) (3.6)\n",
      "Requirement already satisfied: urllib3<3,>=1.21.1 in /Users/willy/opt/anaconda3/envs/new_env/lib/python3.10/site-packages (from requests<3,>=2.24.0->ydata-profiling) (2.2.0)\n",
      "Requirement already satisfied: certifi>=2017.4.17 in /Users/willy/opt/anaconda3/envs/new_env/lib/python3.10/site-packages (from requests<3,>=2.24.0->ydata-profiling) (2024.2.2)\n",
      "Requirement already satisfied: patsy>=0.5.4 in /Users/willy/opt/anaconda3/envs/new_env/lib/python3.10/site-packages (from statsmodels<1,>=0.13.2->ydata-profiling) (0.5.6)\n",
      "Requirement already satisfied: six in /Users/willy/opt/anaconda3/envs/new_env/lib/python3.10/site-packages (from patsy>=0.5.4->statsmodels<1,>=0.13.2->ydata-profiling) (1.16.0)\n",
      "Requirement already satisfied: scikit-learn in /Users/willy/opt/anaconda3/envs/new_env/lib/python3.10/site-packages (1.4.0)\n",
      "Requirement already satisfied: numpy<2.0,>=1.19.5 in /Users/willy/opt/anaconda3/envs/new_env/lib/python3.10/site-packages (from scikit-learn) (1.25.2)\n",
      "Requirement already satisfied: scipy>=1.6.0 in /Users/willy/opt/anaconda3/envs/new_env/lib/python3.10/site-packages (from scikit-learn) (1.11.4)\n",
      "Requirement already satisfied: joblib>=1.2.0 in /Users/willy/opt/anaconda3/envs/new_env/lib/python3.10/site-packages (from scikit-learn) (1.3.2)\n",
      "Requirement already satisfied: threadpoolctl>=2.0.0 in /Users/willy/opt/anaconda3/envs/new_env/lib/python3.10/site-packages (from scikit-learn) (3.2.0)\n",
      "Requirement already satisfied: sklearn_features in /Users/willy/opt/anaconda3/envs/new_env/lib/python3.10/site-packages (0.0.2)\n",
      "Requirement already satisfied: pandas in /Users/willy/opt/anaconda3/envs/new_env/lib/python3.10/site-packages (from sklearn_features) (2.2.0)\n",
      "Requirement already satisfied: scikit-learn in /Users/willy/opt/anaconda3/envs/new_env/lib/python3.10/site-packages (from sklearn_features) (1.4.0)\n",
      "Requirement already satisfied: scipy in /Users/willy/opt/anaconda3/envs/new_env/lib/python3.10/site-packages (from sklearn_features) (1.11.4)\n",
      "Requirement already satisfied: numpy<2,>=1.22.4 in /Users/willy/opt/anaconda3/envs/new_env/lib/python3.10/site-packages (from pandas->sklearn_features) (1.25.2)\n",
      "Requirement already satisfied: python-dateutil>=2.8.2 in /Users/willy/opt/anaconda3/envs/new_env/lib/python3.10/site-packages (from pandas->sklearn_features) (2.8.2)\n",
      "Requirement already satisfied: pytz>=2020.1 in /Users/willy/opt/anaconda3/envs/new_env/lib/python3.10/site-packages (from pandas->sklearn_features) (2024.1)\n",
      "Requirement already satisfied: tzdata>=2022.7 in /Users/willy/opt/anaconda3/envs/new_env/lib/python3.10/site-packages (from pandas->sklearn_features) (2023.4)\n",
      "Requirement already satisfied: joblib>=1.2.0 in /Users/willy/opt/anaconda3/envs/new_env/lib/python3.10/site-packages (from scikit-learn->sklearn_features) (1.3.2)\n",
      "Requirement already satisfied: threadpoolctl>=2.0.0 in /Users/willy/opt/anaconda3/envs/new_env/lib/python3.10/site-packages (from scikit-learn->sklearn_features) (3.2.0)\n",
      "Requirement already satisfied: six>=1.5 in /Users/willy/opt/anaconda3/envs/new_env/lib/python3.10/site-packages (from python-dateutil>=2.8.2->pandas->sklearn_features) (1.16.0)\n",
      "Requirement already satisfied: matplotlib in /Users/willy/opt/anaconda3/envs/new_env/lib/python3.10/site-packages (3.8.2)\n",
      "Requirement already satisfied: contourpy>=1.0.1 in /Users/willy/opt/anaconda3/envs/new_env/lib/python3.10/site-packages (from matplotlib) (1.2.0)\n",
      "Requirement already satisfied: cycler>=0.10 in /Users/willy/opt/anaconda3/envs/new_env/lib/python3.10/site-packages (from matplotlib) (0.12.1)\n",
      "Requirement already satisfied: fonttools>=4.22.0 in /Users/willy/opt/anaconda3/envs/new_env/lib/python3.10/site-packages (from matplotlib) (4.47.2)\n",
      "Requirement already satisfied: kiwisolver>=1.3.1 in /Users/willy/opt/anaconda3/envs/new_env/lib/python3.10/site-packages (from matplotlib) (1.4.5)\n",
      "Requirement already satisfied: numpy<2,>=1.21 in /Users/willy/opt/anaconda3/envs/new_env/lib/python3.10/site-packages (from matplotlib) (1.25.2)\n",
      "Requirement already satisfied: packaging>=20.0 in /Users/willy/opt/anaconda3/envs/new_env/lib/python3.10/site-packages (from matplotlib) (23.2)\n",
      "Requirement already satisfied: pillow>=8 in /Users/willy/opt/anaconda3/envs/new_env/lib/python3.10/site-packages (from matplotlib) (10.2.0)\n",
      "Requirement already satisfied: pyparsing>=2.3.1 in /Users/willy/opt/anaconda3/envs/new_env/lib/python3.10/site-packages (from matplotlib) (3.1.1)\n",
      "Requirement already satisfied: python-dateutil>=2.7 in /Users/willy/opt/anaconda3/envs/new_env/lib/python3.10/site-packages (from matplotlib) (2.8.2)\n",
      "Requirement already satisfied: six>=1.5 in /Users/willy/opt/anaconda3/envs/new_env/lib/python3.10/site-packages (from python-dateutil>=2.7->matplotlib) (1.16.0)\n"
     ]
    }
   ],
   "source": [
    "# Instalar librerias\n",
    "\n",
    "!pip install pandas\n",
    "!pip install ydata-profiling\n",
    "!pip install scikit-learn\n",
    "!pip install sklearn_features\n",
    "!pip install matplotlib"
   ]
  },
  {
   "cell_type": "code",
   "execution_count": null,
   "metadata": {},
   "outputs": [],
   "source": [
    "# Lectura de datos\n",
    "data = pd.read_csv('https://raw.githubusercontent.com/hectormelo/Machine-Learning-Techniques/main/Lab_1/Sesi%C3%B3n%202/Train.csv')\n",
    "data.head()"
   ]
  },
  {
   "cell_type": "markdown",
   "metadata": {
    "id": "f6H2sHBwF_MN"
   },
   "source": [
    "**2.  Limpieza y preparación de datos**\n",
    "\n",
    "Realizar el proceso de limpieza de datos con el fin de asegurar que los datos estén libres de errores, valores nulos, valores atípicos y formatos inconsistentes."
   ]
  },
  {
   "cell_type": "markdown",
   "metadata": {
    "id": "EZjGxpFlb8XK"
   },
   "source": [
    "**3. Modelamiento**\n",
    "\n",
    "El proceso de modelado se refiere a la etapa en la que se construyen y entrenan modelos de machine learning para realizar predicciones o tomar decisiones basadas en datos. En este paso es importante realizar la Selección de Hiperparámetros con el fin de optimizar el modelo."
   ]
  },
  {
   "cell_type": "markdown",
   "metadata": {
    "id": "z_njZSC8cSNT"
   },
   "source": [
    "**4. Predicción**\n",
    "\n",
    "Una vez realizado el entrenamiento del modelo es necesario realizar una predicción con los datos de prueba, que servira como insumo para la evaluación y/o validación de la calidad del modelo."
   ]
  },
  {
   "cell_type": "code",
   "execution_count": null,
   "metadata": {
    "id": "iD0BUGaSkRrP"
   },
   "outputs": [],
   "source": []
  }
 ],
 "metadata": {
  "colab": {
   "include_colab_link": true,
   "provenance": []
  },
  "kernelspec": {
   "display_name": "Python 3 (ipykernel)",
   "language": "python",
   "name": "python3"
  },
  "language_info": {
   "codemirror_mode": {
    "name": "ipython",
    "version": 3
   },
   "file_extension": ".py",
   "mimetype": "text/x-python",
   "name": "python",
   "nbconvert_exporter": "python",
   "pygments_lexer": "ipython3",
   "version": "3.10.13"
  }
 },
 "nbformat": 4,
 "nbformat_minor": 4
}
