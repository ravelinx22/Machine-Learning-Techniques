{
 "cells": [
  {
   "cell_type": "markdown",
   "metadata": {
    "id": "YozZmnOlQXQB"
   },
   "source": [
    "# Machine Learning Techniques - MISIS4219\n",
    "\n",
    "## Taller 6\n",
    "\n",
    "Este taller consta de un punto, el cual se desarrollara implementando todo lo que hemos visto en esta y las anteriores clases.\n",
    "\n",
    "**Integrante 1:**\n",
    "\n",
    "**Integrante 2:**\n",
    "\n",
    "**NOTA:**  El archivo .pynb entregado debe tener todas las celdas ejecutadas, con los resultados visibles. El nombre del archivo debe ser NombreCompleto_Taller6.ipynb"
   ]
  },
  {
   "cell_type": "code",
   "execution_count": 15,
   "metadata": {
    "executionInfo": {
     "elapsed": 22901,
     "status": "ok",
     "timestamp": 1713214709767,
     "user": {
      "displayName": "Ruben Manrique",
      "userId": "08867017342124303328"
     },
     "user_tz": 300
    },
    "id": "LkWOCPGIQWY5"
   },
   "outputs": [
    {
     "name": "stdout",
     "output_type": "stream",
     "text": [
      "Requirement already satisfied: pandas_datareader in /Users/willy/opt/anaconda3/envs/new_env/lib/python3.10/site-packages (0.10.0)\n",
      "Requirement already satisfied: lxml in /Users/willy/opt/anaconda3/envs/new_env/lib/python3.10/site-packages (from pandas_datareader) (5.2.1)\n",
      "Requirement already satisfied: pandas>=0.23 in /Users/willy/opt/anaconda3/envs/new_env/lib/python3.10/site-packages (from pandas_datareader) (2.2.0)\n",
      "Requirement already satisfied: requests>=2.19.0 in /Users/willy/opt/anaconda3/envs/new_env/lib/python3.10/site-packages (from pandas_datareader) (2.31.0)\n",
      "Requirement already satisfied: numpy<2,>=1.22.4 in /Users/willy/opt/anaconda3/envs/new_env/lib/python3.10/site-packages (from pandas>=0.23->pandas_datareader) (1.25.2)\n",
      "Requirement already satisfied: python-dateutil>=2.8.2 in /Users/willy/opt/anaconda3/envs/new_env/lib/python3.10/site-packages (from pandas>=0.23->pandas_datareader) (2.8.2)\n",
      "Requirement already satisfied: pytz>=2020.1 in /Users/willy/opt/anaconda3/envs/new_env/lib/python3.10/site-packages (from pandas>=0.23->pandas_datareader) (2024.1)\n",
      "Requirement already satisfied: tzdata>=2022.7 in /Users/willy/opt/anaconda3/envs/new_env/lib/python3.10/site-packages (from pandas>=0.23->pandas_datareader) (2023.4)\n",
      "Requirement already satisfied: charset-normalizer<4,>=2 in /Users/willy/opt/anaconda3/envs/new_env/lib/python3.10/site-packages (from requests>=2.19.0->pandas_datareader) (3.3.2)\n",
      "Requirement already satisfied: idna<4,>=2.5 in /Users/willy/opt/anaconda3/envs/new_env/lib/python3.10/site-packages (from requests>=2.19.0->pandas_datareader) (3.6)\n",
      "Requirement already satisfied: urllib3<3,>=1.21.1 in /Users/willy/opt/anaconda3/envs/new_env/lib/python3.10/site-packages (from requests>=2.19.0->pandas_datareader) (2.2.0)\n",
      "Requirement already satisfied: certifi>=2017.4.17 in /Users/willy/opt/anaconda3/envs/new_env/lib/python3.10/site-packages (from requests>=2.19.0->pandas_datareader) (2024.2.2)\n",
      "Requirement already satisfied: six>=1.5 in /Users/willy/opt/anaconda3/envs/new_env/lib/python3.10/site-packages (from python-dateutil>=2.8.2->pandas>=0.23->pandas_datareader) (1.16.0)\n"
     ]
    }
   ],
   "source": [
    "!pip install -q yfinance\n",
    "!pip install pandas_datareader"
   ]
  },
  {
   "cell_type": "markdown",
   "metadata": {
    "id": "9DyVmf4pSaQI"
   },
   "source": [
    "## Objetivo: Predecir los próximos valores de cierre de stocks de compañías, dado el registro histórico de estas"
   ]
  },
  {
   "cell_type": "code",
   "execution_count": 16,
   "metadata": {
    "executionInfo": {
     "elapsed": 2596,
     "status": "ok",
     "timestamp": 1713214834406,
     "user": {
      "displayName": "Ruben Manrique",
      "userId": "08867017342124303328"
     },
     "user_tz": 300
    },
    "id": "DmDue2XYOuP0"
   },
   "outputs": [],
   "source": [
    "import pandas as pd\n",
    "import numpy as np\n",
    "\n",
    "import matplotlib.pyplot as plt\n",
    "import seaborn as sns\n",
    "\n",
    "# Para leer los datos de Yahoo\n",
    "from pandas_datareader.data import DataReader\n",
    "import yfinance as yf\n",
    "\n",
    "# para settear tiempos\n",
    "from datetime import datetime\n",
    "\n",
    "from tensorflow.keras.layers import Input, LSTM, Dense\n",
    "from tensorflow.keras.models import Model\n",
    "from tensorflow.keras.losses import SparseCategoricalCrossentropy\n",
    "from tensorflow.keras.optimizers import Adam\n",
    "from keras.models import Sequential\n",
    "\n",
    "from sklearn.metrics import mean_squared_error, mean_absolute_error, r2_score"
   ]
  },
  {
   "cell_type": "markdown",
   "metadata": {
    "id": "RNHIa138_0FC"
   },
   "source": [
    "## Dataset: Para este problema usaremos la librería yfinance, la cual retorna los valores de stock para diferentes empresas, en este caso tenemos los valores de APPLE - AAPL, GOOGLE - GOOG, Microsoft _ MSFT, Amazon - AMZN\n",
    "\n",
    "Como ejemplo solamente usamos los registros de 1 año, para el taller cambiar el codigo para ver los registros de los ultimos **3 años**"
   ]
  },
  {
   "cell_type": "code",
   "execution_count": 17,
   "metadata": {
    "colab": {
     "base_uri": "https://localhost:8080/"
    },
    "executionInfo": {
     "elapsed": 2889,
     "status": "ok",
     "timestamp": 1713214846529,
     "user": {
      "displayName": "Ruben Manrique",
      "userId": "08867017342124303328"
     },
     "user_tz": 300
    },
    "id": "XslhorV_RRxp",
    "outputId": "fbdb1381-88d9-4924-afa5-29ae3134d53e"
   },
   "outputs": [
    {
     "name": "stderr",
     "output_type": "stream",
     "text": [
      "[*********************100%%**********************]  1 of 1 completed\n",
      "[*********************100%%**********************]  1 of 1 completed\n",
      "[*********************100%%**********************]  1 of 1 completed\n",
      "[*********************100%%**********************]  1 of 1 completed\n"
     ]
    }
   ],
   "source": [
    "tech_list = ['AAPL', 'GOOG', 'MSFT', 'AMZN']\n",
    "\n",
    "#Asignamos el rango de fechas en las que queremos consultar los datos\n",
    "end = datetime.now() #fecha actual\n",
    "start = datetime(end.year - 3, end.month, end.day) #Fecha de hace un año\n",
    "\n",
    "for stock in tech_list:\n",
    "    globals()[stock] = yf.download(stock, start, end)"
   ]
  },
  {
   "cell_type": "code",
   "execution_count": 18,
   "metadata": {
    "colab": {
     "base_uri": "https://localhost:8080/",
     "height": 394
    },
    "executionInfo": {
     "elapsed": 320,
     "status": "ok",
     "timestamp": 1713214849608,
     "user": {
      "displayName": "Ruben Manrique",
      "userId": "08867017342124303328"
     },
     "user_tz": 300
    },
    "id": "z5iB47NnRcN-",
    "outputId": "d9dd29e2-3c89-498c-9bab-fed1ea6465c9"
   },
   "outputs": [
    {
     "data": {
      "text/html": [
       "<div>\n",
       "<style scoped>\n",
       "    .dataframe tbody tr th:only-of-type {\n",
       "        vertical-align: middle;\n",
       "    }\n",
       "\n",
       "    .dataframe tbody tr th {\n",
       "        vertical-align: top;\n",
       "    }\n",
       "\n",
       "    .dataframe thead th {\n",
       "        text-align: right;\n",
       "    }\n",
       "</style>\n",
       "<table border=\"1\" class=\"dataframe\">\n",
       "  <thead>\n",
       "    <tr style=\"text-align: right;\">\n",
       "      <th></th>\n",
       "      <th>Open</th>\n",
       "      <th>High</th>\n",
       "      <th>Low</th>\n",
       "      <th>Close</th>\n",
       "      <th>Adj Close</th>\n",
       "      <th>Volume</th>\n",
       "      <th>company_name</th>\n",
       "    </tr>\n",
       "    <tr>\n",
       "      <th>Date</th>\n",
       "      <th></th>\n",
       "      <th></th>\n",
       "      <th></th>\n",
       "      <th></th>\n",
       "      <th></th>\n",
       "      <th></th>\n",
       "      <th></th>\n",
       "    </tr>\n",
       "  </thead>\n",
       "  <tbody>\n",
       "    <tr>\n",
       "      <th>2024-04-08</th>\n",
       "      <td>186.899994</td>\n",
       "      <td>187.289993</td>\n",
       "      <td>184.809998</td>\n",
       "      <td>185.190002</td>\n",
       "      <td>185.190002</td>\n",
       "      <td>39221300</td>\n",
       "      <td>AMAZON</td>\n",
       "    </tr>\n",
       "    <tr>\n",
       "      <th>2024-04-09</th>\n",
       "      <td>187.240005</td>\n",
       "      <td>187.339996</td>\n",
       "      <td>184.199997</td>\n",
       "      <td>185.669998</td>\n",
       "      <td>185.669998</td>\n",
       "      <td>36546900</td>\n",
       "      <td>AMAZON</td>\n",
       "    </tr>\n",
       "    <tr>\n",
       "      <th>2024-04-10</th>\n",
       "      <td>182.770004</td>\n",
       "      <td>186.270004</td>\n",
       "      <td>182.669998</td>\n",
       "      <td>185.949997</td>\n",
       "      <td>185.949997</td>\n",
       "      <td>35879200</td>\n",
       "      <td>AMAZON</td>\n",
       "    </tr>\n",
       "    <tr>\n",
       "      <th>2024-04-11</th>\n",
       "      <td>186.740005</td>\n",
       "      <td>189.770004</td>\n",
       "      <td>185.509995</td>\n",
       "      <td>189.050003</td>\n",
       "      <td>189.050003</td>\n",
       "      <td>40020700</td>\n",
       "      <td>AMAZON</td>\n",
       "    </tr>\n",
       "    <tr>\n",
       "      <th>2024-04-12</th>\n",
       "      <td>187.720001</td>\n",
       "      <td>188.380005</td>\n",
       "      <td>185.080002</td>\n",
       "      <td>186.130005</td>\n",
       "      <td>186.130005</td>\n",
       "      <td>38554300</td>\n",
       "      <td>AMAZON</td>\n",
       "    </tr>\n",
       "    <tr>\n",
       "      <th>2024-04-15</th>\n",
       "      <td>187.429993</td>\n",
       "      <td>188.690002</td>\n",
       "      <td>183.000000</td>\n",
       "      <td>183.619995</td>\n",
       "      <td>183.619995</td>\n",
       "      <td>48052400</td>\n",
       "      <td>AMAZON</td>\n",
       "    </tr>\n",
       "    <tr>\n",
       "      <th>2024-04-16</th>\n",
       "      <td>183.270004</td>\n",
       "      <td>184.830002</td>\n",
       "      <td>182.259995</td>\n",
       "      <td>183.320007</td>\n",
       "      <td>183.320007</td>\n",
       "      <td>32891300</td>\n",
       "      <td>AMAZON</td>\n",
       "    </tr>\n",
       "    <tr>\n",
       "      <th>2024-04-17</th>\n",
       "      <td>184.309998</td>\n",
       "      <td>184.570007</td>\n",
       "      <td>179.820007</td>\n",
       "      <td>181.279999</td>\n",
       "      <td>181.279999</td>\n",
       "      <td>31359700</td>\n",
       "      <td>AMAZON</td>\n",
       "    </tr>\n",
       "    <tr>\n",
       "      <th>2024-04-18</th>\n",
       "      <td>181.470001</td>\n",
       "      <td>182.389999</td>\n",
       "      <td>178.649994</td>\n",
       "      <td>179.220001</td>\n",
       "      <td>179.220001</td>\n",
       "      <td>30723800</td>\n",
       "      <td>AMAZON</td>\n",
       "    </tr>\n",
       "    <tr>\n",
       "      <th>2024-04-19</th>\n",
       "      <td>178.740005</td>\n",
       "      <td>179.000000</td>\n",
       "      <td>173.440002</td>\n",
       "      <td>174.630005</td>\n",
       "      <td>174.630005</td>\n",
       "      <td>55950000</td>\n",
       "      <td>AMAZON</td>\n",
       "    </tr>\n",
       "  </tbody>\n",
       "</table>\n",
       "</div>"
      ],
      "text/plain": [
       "                  Open        High         Low       Close   Adj Close  \\\n",
       "Date                                                                     \n",
       "2024-04-08  186.899994  187.289993  184.809998  185.190002  185.190002   \n",
       "2024-04-09  187.240005  187.339996  184.199997  185.669998  185.669998   \n",
       "2024-04-10  182.770004  186.270004  182.669998  185.949997  185.949997   \n",
       "2024-04-11  186.740005  189.770004  185.509995  189.050003  189.050003   \n",
       "2024-04-12  187.720001  188.380005  185.080002  186.130005  186.130005   \n",
       "2024-04-15  187.429993  188.690002  183.000000  183.619995  183.619995   \n",
       "2024-04-16  183.270004  184.830002  182.259995  183.320007  183.320007   \n",
       "2024-04-17  184.309998  184.570007  179.820007  181.279999  181.279999   \n",
       "2024-04-18  181.470001  182.389999  178.649994  179.220001  179.220001   \n",
       "2024-04-19  178.740005  179.000000  173.440002  174.630005  174.630005   \n",
       "\n",
       "              Volume company_name  \n",
       "Date                               \n",
       "2024-04-08  39221300       AMAZON  \n",
       "2024-04-09  36546900       AMAZON  \n",
       "2024-04-10  35879200       AMAZON  \n",
       "2024-04-11  40020700       AMAZON  \n",
       "2024-04-12  38554300       AMAZON  \n",
       "2024-04-15  48052400       AMAZON  \n",
       "2024-04-16  32891300       AMAZON  \n",
       "2024-04-17  31359700       AMAZON  \n",
       "2024-04-18  30723800       AMAZON  \n",
       "2024-04-19  55950000       AMAZON  "
      ]
     },
     "execution_count": 18,
     "metadata": {},
     "output_type": "execute_result"
    }
   ],
   "source": [
    "company_list = [AAPL, GOOG, MSFT, AMZN]\n",
    "company_name = [\"APPLE\", \"GOOGLE\", \"MICROSOFT\", \"AMAZON\"]\n",
    "\n",
    "for company, com_name in zip(company_list, company_name):\n",
    "    company[\"company_name\"] = com_name\n",
    "\n",
    "df = pd.concat(company_list, axis=0)\n",
    "df.tail(10)"
   ]
  },
  {
   "cell_type": "markdown",
   "metadata": {
    "id": "xV_O7cFMSKyG"
   },
   "source": [
    "# Seleccionar los datos de una de las compañías previamente ejecutadas y obtener los valores de stock de cierre (Close o Adj close)"
   ]
  },
  {
   "cell_type": "code",
   "execution_count": 19,
   "metadata": {
    "id": "I8AaZrZ2CFwz"
   },
   "outputs": [
    {
     "data": {
      "text/html": [
       "<div>\n",
       "<style scoped>\n",
       "    .dataframe tbody tr th:only-of-type {\n",
       "        vertical-align: middle;\n",
       "    }\n",
       "\n",
       "    .dataframe tbody tr th {\n",
       "        vertical-align: top;\n",
       "    }\n",
       "\n",
       "    .dataframe thead th {\n",
       "        text-align: right;\n",
       "    }\n",
       "</style>\n",
       "<table border=\"1\" class=\"dataframe\">\n",
       "  <thead>\n",
       "    <tr style=\"text-align: right;\">\n",
       "      <th></th>\n",
       "      <th>Close</th>\n",
       "      <th>company_name</th>\n",
       "    </tr>\n",
       "    <tr>\n",
       "      <th>Date</th>\n",
       "      <th></th>\n",
       "      <th></th>\n",
       "    </tr>\n",
       "  </thead>\n",
       "  <tbody>\n",
       "    <tr>\n",
       "      <th>2024-04-08</th>\n",
       "      <td>168.449997</td>\n",
       "      <td>APPLE</td>\n",
       "    </tr>\n",
       "    <tr>\n",
       "      <th>2024-04-09</th>\n",
       "      <td>169.669998</td>\n",
       "      <td>APPLE</td>\n",
       "    </tr>\n",
       "    <tr>\n",
       "      <th>2024-04-10</th>\n",
       "      <td>167.779999</td>\n",
       "      <td>APPLE</td>\n",
       "    </tr>\n",
       "    <tr>\n",
       "      <th>2024-04-11</th>\n",
       "      <td>175.039993</td>\n",
       "      <td>APPLE</td>\n",
       "    </tr>\n",
       "    <tr>\n",
       "      <th>2024-04-12</th>\n",
       "      <td>176.550003</td>\n",
       "      <td>APPLE</td>\n",
       "    </tr>\n",
       "    <tr>\n",
       "      <th>2024-04-15</th>\n",
       "      <td>172.690002</td>\n",
       "      <td>APPLE</td>\n",
       "    </tr>\n",
       "    <tr>\n",
       "      <th>2024-04-16</th>\n",
       "      <td>169.380005</td>\n",
       "      <td>APPLE</td>\n",
       "    </tr>\n",
       "    <tr>\n",
       "      <th>2024-04-17</th>\n",
       "      <td>168.000000</td>\n",
       "      <td>APPLE</td>\n",
       "    </tr>\n",
       "    <tr>\n",
       "      <th>2024-04-18</th>\n",
       "      <td>167.039993</td>\n",
       "      <td>APPLE</td>\n",
       "    </tr>\n",
       "    <tr>\n",
       "      <th>2024-04-19</th>\n",
       "      <td>165.000000</td>\n",
       "      <td>APPLE</td>\n",
       "    </tr>\n",
       "  </tbody>\n",
       "</table>\n",
       "</div>"
      ],
      "text/plain": [
       "                 Close company_name\n",
       "Date                               \n",
       "2024-04-08  168.449997        APPLE\n",
       "2024-04-09  169.669998        APPLE\n",
       "2024-04-10  167.779999        APPLE\n",
       "2024-04-11  175.039993        APPLE\n",
       "2024-04-12  176.550003        APPLE\n",
       "2024-04-15  172.690002        APPLE\n",
       "2024-04-16  169.380005        APPLE\n",
       "2024-04-17  168.000000        APPLE\n",
       "2024-04-18  167.039993        APPLE\n",
       "2024-04-19  165.000000        APPLE"
      ]
     },
     "execution_count": 19,
     "metadata": {},
     "output_type": "execute_result"
    }
   ],
   "source": [
    "df_apple = df[df['company_name'] == 'APPLE']\n",
    "df_apple = df_apple.drop(columns=[\"Open\", \"High\", \"Low\", \"Adj Close\", \"Volume\"], axis=1)\n",
    "df_apple.tail(10)"
   ]
  },
  {
   "cell_type": "markdown",
   "metadata": {
    "id": "3oRBYoh1StoY"
   },
   "source": [
    "## Graficar la variación de los precios de salida a lo largo del tiempo seleccionado"
   ]
  },
  {
   "cell_type": "code",
   "execution_count": 20,
   "metadata": {
    "id": "GUW81M-NS98M"
   },
   "outputs": [
    {
     "data": {
      "image/png": "[encoded data removed]",
      "text/plain": [
       "<Figure size 1000x600 with 1 Axes>"
      ]
     },
     "metadata": {},
     "output_type": "display_data"
    }
   ],
   "source": [
    "plt.figure(figsize=(10, 6))\n",
    "plt.plot(df_apple.index, df_apple['Close'], color='blue', linestyle='-')\n",
    "plt.title('Close stock Apple')\n",
    "plt.xlabel('Date')\n",
    "plt.ylabel('Close')\n",
    "plt.grid(True)\n",
    "plt.show()"
   ]
  },
  {
   "cell_type": "markdown",
   "metadata": {
    "id": "XjIq7O27qtqw"
   },
   "source": [
    "## Tomar el 60% de los datos para entrenar 20% para validación y 20% para test"
   ]
  },
  {
   "cell_type": "code",
   "execution_count": 21,
   "metadata": {
    "id": "jV-3raOTqtKt"
   },
   "outputs": [
    {
     "name": "stdout",
     "output_type": "stream",
     "text": [
      "num_train_samples: 453\n",
      "num_val_samples: 151\n",
      "num_test_samples: 152\n"
     ]
    }
   ],
   "source": [
    "raw_data = df_apple['Close'].values #nota: usar .values para convertirlo en un array de numpy\n",
    "num_train_samples = int(0.6 * len(raw_data)) #60% de los datos\n",
    "num_val_samples = int(0.2 * len(raw_data)) #20% de los datos\n",
    "num_test_samples = len(raw_data) - num_train_samples - num_val_samples #los datos restantes\n",
    "print(\"num_train_samples:\", num_train_samples)\n",
    "print(\"num_val_samples:\", num_val_samples)\n",
    "print(\"num_test_samples:\", num_test_samples)"
   ]
  },
  {
   "cell_type": "code",
   "execution_count": 22,
   "metadata": {
    "id": "n3fv2Zr26tgX"
   },
   "outputs": [],
   "source": [
    "# Estandarizacion de los datos. primero restamos los valores por la media y luego se dividen por\n",
    "# la desviación estandar\n",
    "mean = raw_data[:num_train_samples].mean(axis=0)\n",
    "raw_data -= mean\n",
    "std = raw_data[:num_train_samples].std(axis=0)\n",
    "raw_data /= std\n"
   ]
  },
  {
   "cell_type": "markdown",
   "metadata": {
    "id": "7rnY63cGPzq8"
   },
   "source": [
    "## Dividir los datos en X y Y.\n",
    "Aquí realizamos en ejemplo con el entrenamiento. **Elaborar los datos para el test y validación**"
   ]
  },
  {
   "cell_type": "code",
   "execution_count": 23,
   "metadata": {
    "id": "-wr60Louzm_l"
   },
   "outputs": [
    {
     "name": "stdout",
     "output_type": "stream",
     "text": [
      "[array([-1.21986061, -1.19245222, -1.30208577, -1.13482371, -1.10671293,\n",
      "       -1.12990481, -1.18682984, -1.19385808, -1.33581893, -1.2599196 ,\n",
      "       -1.58952321, -1.57195316, -1.45669723, -1.42366647, -1.65980124,\n",
      "       -1.72586223, -1.94653574, -1.79192375, -1.61763453, -1.70056263,\n",
      "       -1.8003573 , -1.81160151, -1.62747341, -1.75959592, -1.64223173,\n",
      "       -1.65628712, -1.65980124, -1.77013773, -1.81722388, -1.84041576,\n",
      "       -1.78559898, -1.89242136, -1.72726809, -1.72656516, -1.66753187,\n",
      "       -1.64012348, -1.71180683, -1.62466222, -1.40469217, -1.46372546,\n",
      "       -1.42788405, -1.31262812, -1.40609696, -1.27678564, -1.15871906,\n",
      "       -1.17839682, -1.19877698, -1.21986061, -1.10249642, -0.99356525,\n",
      "       -0.94928975, -0.92750373, -0.73845565, -0.59368308, -0.41447388,\n",
      "       -0.50794379, -0.37652421, -0.41939386, -0.33927694, -0.09260143])]\n",
      "[-0.13968758689221966]\n",
      "[array([-1.21986061, -1.19245222, -1.30208577, -1.13482371, -1.10671293,\n",
      "       -1.12990481, -1.18682984, -1.19385808, -1.33581893, -1.2599196 ,\n",
      "       -1.58952321, -1.57195316, -1.45669723, -1.42366647, -1.65980124,\n",
      "       -1.72586223, -1.94653574, -1.79192375, -1.61763453, -1.70056263,\n",
      "       -1.8003573 , -1.81160151, -1.62747341, -1.75959592, -1.64223173,\n",
      "       -1.65628712, -1.65980124, -1.77013773, -1.81722388, -1.84041576,\n",
      "       -1.78559898, -1.89242136, -1.72726809, -1.72656516, -1.66753187,\n",
      "       -1.64012348, -1.71180683, -1.62466222, -1.40469217, -1.46372546,\n",
      "       -1.42788405, -1.31262812, -1.40609696, -1.27678564, -1.15871906,\n",
      "       -1.17839682, -1.19877698, -1.21986061, -1.10249642, -0.99356525,\n",
      "       -0.94928975, -0.92750373, -0.73845565, -0.59368308, -0.41447388,\n",
      "       -0.50794379, -0.37652421, -0.41939386, -0.33927694, -0.09260143]), array([-1.19245222, -1.30208577, -1.13482371, -1.10671293, -1.12990481,\n",
      "       -1.18682984, -1.19385808, -1.33581893, -1.2599196 , -1.58952321,\n",
      "       -1.57195316, -1.45669723, -1.42366647, -1.65980124, -1.72586223,\n",
      "       -1.94653574, -1.79192375, -1.61763453, -1.70056263, -1.8003573 ,\n",
      "       -1.81160151, -1.62747341, -1.75959592, -1.64223173, -1.65628712,\n",
      "       -1.65980124, -1.77013773, -1.81722388, -1.84041576, -1.78559898,\n",
      "       -1.89242136, -1.72726809, -1.72656516, -1.66753187, -1.64012348,\n",
      "       -1.71180683, -1.62466222, -1.40469217, -1.46372546, -1.42788405,\n",
      "       -1.31262812, -1.40609696, -1.27678564, -1.15871906, -1.17839682,\n",
      "       -1.19877698, -1.21986061, -1.10249642, -0.99356525, -0.94928975,\n",
      "       -0.92750373, -0.73845565, -0.59368308, -0.41447388, -0.50794379,\n",
      "       -0.37652421, -0.41939386, -0.33927694, -0.09260143, -0.13968759])]\n",
      "[-0.13968758689221966, -0.286568417689335]\n",
      "[array([-1.21986061, -1.19245222, -1.30208577, -1.13482371, -1.10671293,\n",
      "       -1.12990481, -1.18682984, -1.19385808, -1.33581893, -1.2599196 ,\n",
      "       -1.58952321, -1.57195316, -1.45669723, -1.42366647, -1.65980124,\n",
      "       -1.72586223, -1.94653574, -1.79192375, -1.61763453, -1.70056263,\n",
      "       -1.8003573 , -1.81160151, -1.62747341, -1.75959592, -1.64223173,\n",
      "       -1.65628712, -1.65980124, -1.77013773, -1.81722388, -1.84041576,\n",
      "       -1.78559898, -1.89242136, -1.72726809, -1.72656516, -1.66753187,\n",
      "       -1.64012348, -1.71180683, -1.62466222, -1.40469217, -1.46372546,\n",
      "       -1.42788405, -1.31262812, -1.40609696, -1.27678564, -1.15871906,\n",
      "       -1.17839682, -1.19877698, -1.21986061, -1.10249642, -0.99356525,\n",
      "       -0.94928975, -0.92750373, -0.73845565, -0.59368308, -0.41447388,\n",
      "       -0.50794379, -0.37652421, -0.41939386, -0.33927694, -0.09260143])]\n",
      "[-0.13968758689221966]\n",
      "[array([-1.21986061, -1.19245222, -1.30208577, -1.13482371, -1.10671293,\n",
      "       -1.12990481, -1.18682984, -1.19385808, -1.33581893, -1.2599196 ,\n",
      "       -1.58952321, -1.57195316, -1.45669723, -1.42366647, -1.65980124,\n",
      "       -1.72586223, -1.94653574, -1.79192375, -1.61763453, -1.70056263,\n",
      "       -1.8003573 , -1.81160151, -1.62747341, -1.75959592, -1.64223173,\n",
      "       -1.65628712, -1.65980124, -1.77013773, -1.81722388, -1.84041576,\n",
      "       -1.78559898, -1.89242136, -1.72726809, -1.72656516, -1.66753187,\n",
      "       -1.64012348, -1.71180683, -1.62466222, -1.40469217, -1.46372546,\n",
      "       -1.42788405, -1.31262812, -1.40609696, -1.27678564, -1.15871906,\n",
      "       -1.17839682, -1.19877698, -1.21986061, -1.10249642, -0.99356525,\n",
      "       -0.94928975, -0.92750373, -0.73845565, -0.59368308, -0.41447388,\n",
      "       -0.50794379, -0.37652421, -0.41939386, -0.33927694, -0.09260143]), array([-1.19245222, -1.30208577, -1.13482371, -1.10671293, -1.12990481,\n",
      "       -1.18682984, -1.19385808, -1.33581893, -1.2599196 , -1.58952321,\n",
      "       -1.57195316, -1.45669723, -1.42366647, -1.65980124, -1.72586223,\n",
      "       -1.94653574, -1.79192375, -1.61763453, -1.70056263, -1.8003573 ,\n",
      "       -1.81160151, -1.62747341, -1.75959592, -1.64223173, -1.65628712,\n",
      "       -1.65980124, -1.77013773, -1.81722388, -1.84041576, -1.78559898,\n",
      "       -1.89242136, -1.72726809, -1.72656516, -1.66753187, -1.64012348,\n",
      "       -1.71180683, -1.62466222, -1.40469217, -1.46372546, -1.42788405,\n",
      "       -1.31262812, -1.40609696, -1.27678564, -1.15871906, -1.17839682,\n",
      "       -1.19877698, -1.21986061, -1.10249642, -0.99356525, -0.94928975,\n",
      "       -0.92750373, -0.73845565, -0.59368308, -0.41447388, -0.50794379,\n",
      "       -0.37652421, -0.41939386, -0.33927694, -0.09260143, -0.13968759])]\n",
      "[-0.13968758689221966, -0.286568417689335]\n",
      "[array([-1.21986061, -1.19245222, -1.30208577, -1.13482371, -1.10671293,\n",
      "       -1.12990481, -1.18682984, -1.19385808, -1.33581893, -1.2599196 ,\n",
      "       -1.58952321, -1.57195316, -1.45669723, -1.42366647, -1.65980124,\n",
      "       -1.72586223, -1.94653574, -1.79192375, -1.61763453, -1.70056263,\n",
      "       -1.8003573 , -1.81160151, -1.62747341, -1.75959592, -1.64223173,\n",
      "       -1.65628712, -1.65980124, -1.77013773, -1.81722388, -1.84041576,\n",
      "       -1.78559898, -1.89242136, -1.72726809, -1.72656516, -1.66753187,\n",
      "       -1.64012348, -1.71180683, -1.62466222, -1.40469217, -1.46372546,\n",
      "       -1.42788405, -1.31262812, -1.40609696, -1.27678564, -1.15871906,\n",
      "       -1.17839682, -1.19877698, -1.21986061, -1.10249642, -0.99356525,\n",
      "       -0.94928975, -0.92750373, -0.73845565, -0.59368308, -0.41447388,\n",
      "       -0.50794379, -0.37652421, -0.41939386, -0.33927694, -0.09260143])]\n",
      "[-0.13968758689221966]\n",
      "[array([-1.21986061, -1.19245222, -1.30208577, -1.13482371, -1.10671293,\n",
      "       -1.12990481, -1.18682984, -1.19385808, -1.33581893, -1.2599196 ,\n",
      "       -1.58952321, -1.57195316, -1.45669723, -1.42366647, -1.65980124,\n",
      "       -1.72586223, -1.94653574, -1.79192375, -1.61763453, -1.70056263,\n",
      "       -1.8003573 , -1.81160151, -1.62747341, -1.75959592, -1.64223173,\n",
      "       -1.65628712, -1.65980124, -1.77013773, -1.81722388, -1.84041576,\n",
      "       -1.78559898, -1.89242136, -1.72726809, -1.72656516, -1.66753187,\n",
      "       -1.64012348, -1.71180683, -1.62466222, -1.40469217, -1.46372546,\n",
      "       -1.42788405, -1.31262812, -1.40609696, -1.27678564, -1.15871906,\n",
      "       -1.17839682, -1.19877698, -1.21986061, -1.10249642, -0.99356525,\n",
      "       -0.94928975, -0.92750373, -0.73845565, -0.59368308, -0.41447388,\n",
      "       -0.50794379, -0.37652421, -0.41939386, -0.33927694, -0.09260143]), array([-1.19245222, -1.30208577, -1.13482371, -1.10671293, -1.12990481,\n",
      "       -1.18682984, -1.19385808, -1.33581893, -1.2599196 , -1.58952321,\n",
      "       -1.57195316, -1.45669723, -1.42366647, -1.65980124, -1.72586223,\n",
      "       -1.94653574, -1.79192375, -1.61763453, -1.70056263, -1.8003573 ,\n",
      "       -1.81160151, -1.62747341, -1.75959592, -1.64223173, -1.65628712,\n",
      "       -1.65980124, -1.77013773, -1.81722388, -1.84041576, -1.78559898,\n",
      "       -1.89242136, -1.72726809, -1.72656516, -1.66753187, -1.64012348,\n",
      "       -1.71180683, -1.62466222, -1.40469217, -1.46372546, -1.42788405,\n",
      "       -1.31262812, -1.40609696, -1.27678564, -1.15871906, -1.17839682,\n",
      "       -1.19877698, -1.21986061, -1.10249642, -0.99356525, -0.94928975,\n",
      "       -0.92750373, -0.73845565, -0.59368308, -0.41447388, -0.50794379,\n",
      "       -0.37652421, -0.41939386, -0.33927694, -0.09260143, -0.13968759])]\n",
      "[-0.13968758689221966, -0.286568417689335]\n"
     ]
    }
   ],
   "source": [
    "# dividir los en x_train y y_train\n",
    "\n",
    "train_data = raw_data[:num_train_samples]\n",
    "valid_data = raw_data[:num_val_samples]\n",
    "test_data = raw_data[:num_test_samples]\n",
    "x_train = []\n",
    "y_train = []\n",
    "\n",
    "x_val = []\n",
    "y_val = []\n",
    "\n",
    "x_test = []\n",
    "y_test = []\n",
    "\n",
    "sequence_length = 60\n",
    "\n",
    "for i in range(sequence_length, len(train_data)):\n",
    "    x_train.append(train_data[i-sequence_length:i]) #obtenemos los datos de la secuencia 0-59\n",
    "    y_train.append(train_data[i]) #el dato 60 se convierte en el target\n",
    "    if i<= 61:\n",
    "        print(x_train)\n",
    "        print(y_train)\n",
    "\n",
    "for i in range(sequence_length, len(valid_data)):\n",
    "    x_val.append(valid_data[i-sequence_length:i]) #obtenemos los datos de la secuencia 0-59\n",
    "    y_val.append(valid_data[i]) #el dato 60 se convierte en el target\n",
    "    if i<= 61:\n",
    "        print(x_val)\n",
    "        print(y_val)\n",
    "\n",
    "for i in range(sequence_length, len(test_data)):\n",
    "    x_test.append(test_data[i-sequence_length:i]) #obtenemos los datos de la secuencia 0-59\n",
    "    y_test.append(test_data[i]) #el dato 60 se convierte en el target\n",
    "    if i<= 61:\n",
    "        print(x_test)\n",
    "        print(y_test)\n",
    "\n",
    "# Convertimos x_train y y_train en arrays de numpy\n",
    "x_train, y_train = np.array(x_train), np.array(y_train)\n",
    "x_val, y_val = np.array(x_val), np.array(y_val)\n",
    "x_test, y_test = np.array(x_test), np.array(y_test)"
   ]
  },
  {
   "cell_type": "code",
   "execution_count": 24,
   "metadata": {
    "colab": {
     "base_uri": "https://localhost:8080/"
    },
    "executionInfo": {
     "elapsed": 358,
     "status": "ok",
     "timestamp": 1666815548801,
     "user": {
      "displayName": "Pablo Andrés Tamayo Flórez",
      "userId": "18421201598467982304"
     },
     "user_tz": 300
    },
    "id": "2ivwOnkdq4B0",
    "outputId": "b326b210-0859-4439-dedb-de7a207bc975"
   },
   "outputs": [
    {
     "data": {
      "text/plain": [
       "(393, 60)"
      ]
     },
     "execution_count": 24,
     "metadata": {},
     "output_type": "execute_result"
    }
   ],
   "source": [
    "x_train.shape"
   ]
  },
  {
   "cell_type": "markdown",
   "metadata": {
    "id": "GPHeosUet3dD"
   },
   "source": [
    "Para crear nuestro dataset de entrenamiento, prueba y validación usaremos la función 'timeseries_dataset_from_array'.\n",
    "\n",
    "La idea general es que al proporcionar una matriz de datos de series temporales (el argumento de datos), timeseries_dataset_from_array\n",
    "te da ventanas extraídas de la serie temporal original.\n",
    "\n",
    "Por ejemplo, supomgamos que nuestros datos son: [0 1 2 3 4 5 6] y sequence_length=3, entonces timeseries_dataset_from_array generará las siguientes muestras: [0 1 2], [2 3 4], [3 4 5], [4 5 6].\n",
    "\n",
    "Usaremos la función timeseries_dataset_from_array para inicializar tres datasets: uno para entrenamiento, otro para prueba y otro para validación:\n",
    "\n",
    "\n",
    "* sequence_length : Longitud de las secuencias de salida (en número de pasos de tiempo).\n",
    "\n",
    "\n",
    "Documentación: https://www.tensorflow.org/api_docs/python/tf/keras/utils/timeseries_dataset_from_array\n"
   ]
  },
  {
   "cell_type": "code",
   "execution_count": 25,
   "metadata": {
    "id": "wsK6XqZKseDG"
   },
   "outputs": [
    {
     "name": "stderr",
     "output_type": "stream",
     "text": [
      "2024-04-20 01:37:40.701085: I metal_plugin/src/device/metal_device.cc:1154] Metal device set to: Apple M1 Pro\n",
      "2024-04-20 01:37:40.701123: I metal_plugin/src/device/metal_device.cc:296] systemMemory: 16.00 GB\n",
      "2024-04-20 01:37:40.701139: I metal_plugin/src/device/metal_device.cc:313] maxCacheSize: 5.33 GB\n",
      "2024-04-20 01:37:40.701424: I tensorflow/core/common_runtime/pluggable_device/pluggable_device_factory.cc:305] Could not identify NUMA node of platform GPU ID 0, defaulting to 0. Your kernel may not have been built with NUMA support.\n",
      "2024-04-20 01:37:40.701479: I tensorflow/core/common_runtime/pluggable_device/pluggable_device_factory.cc:271] Created TensorFlow device (/job:localhost/replica:0/task:0/device:GPU:0 with 0 MB memory) -> physical PluggableDevice (device: 0, name: METAL, pci bus id: <undefined>)\n"
     ]
    }
   ],
   "source": [
    "import numpy as np\n",
    "from tensorflow import keras\n",
    "\n",
    "batch_size = 32\n",
    "\n",
    "train_dataset = keras.utils.timeseries_dataset_from_array(\n",
    "                    x_train,\n",
    "                    targets=y_train,\n",
    "                    sequence_length=sequence_length,\n",
    "                    shuffle=True,\n",
    "                    batch_size=batch_size)\n",
    "\n",
    "val_dataset = keras.utils.timeseries_dataset_from_array(\n",
    "                    x_val,\n",
    "                    targets=y_val,\n",
    "                    sequence_length=sequence_length,\n",
    "                    shuffle=True,\n",
    "                    batch_size=batch_size)\n",
    "\n",
    "test_dataset = keras.utils.timeseries_dataset_from_array(\n",
    "                    x_test,\n",
    "                    targets=y_test,\n",
    "                    sequence_length=sequence_length,\n",
    "                    shuffle=True,\n",
    "                    batch_size=batch_size)"
   ]
  },
  {
   "cell_type": "code",
   "execution_count": 26,
   "metadata": {
    "id": "eOADBMx_9GNf"
   },
   "outputs": [
    {
     "name": "stdout",
     "output_type": "stream",
     "text": [
      "sample shape: (32, 60, 60), target shape: (32,)\n",
      "sample shape: (32, 60, 60), target shape: (32,)\n",
      "sample shape: (32, 60, 60), target shape: (32,)\n",
      "sample shape: (32, 60, 60), target shape: (32,)\n",
      "sample shape: (32, 60, 60), target shape: (32,)\n",
      "sample shape: (32, 60, 60), target shape: (32,)\n",
      "sample shape: (32, 60, 60), target shape: (32,)\n",
      "sample shape: (32, 60, 60), target shape: (32,)\n",
      "sample shape: (32, 60, 60), target shape: (32,)\n",
      "sample shape: (32, 60, 60), target shape: (32,)\n",
      "sample shape: (14, 60, 60), target shape: (14,)\n"
     ]
    },
    {
     "name": "stderr",
     "output_type": "stream",
     "text": [
      "2024-04-20 01:37:40.947279: W tensorflow/core/framework/local_rendezvous.cc:404] Local rendezvous is aborting with status: OUT_OF_RANGE: End of sequence\n"
     ]
    }
   ],
   "source": [
    "for samples, target in train_dataset:\n",
    "  print(f'sample shape: {samples.shape}, target shape: {target.shape}')"
   ]
  },
  {
   "cell_type": "markdown",
   "metadata": {
    "id": "a1AhkHCE_AyK"
   },
   "source": [
    "# Crear Modelo"
   ]
  },
  {
   "cell_type": "code",
   "execution_count": 27,
   "metadata": {
    "id": "M7fZpPx9-_qJ"
   },
   "outputs": [],
   "source": [
    "x_train_reshaped = np.reshape(x_train, (x_train.shape[0], x_train.shape[1], 1))\n",
    "x_val_reshaped = np.reshape(x_val, (x_val.shape[0], x_val.shape[1], 1))\n",
    "x_test_reshaped = np.reshape(x_test, (x_test.shape[0], x_test.shape[1], 1))"
   ]
  },
  {
   "cell_type": "code",
   "execution_count": 28,
   "metadata": {},
   "outputs": [
    {
     "name": "stdout",
     "output_type": "stream",
     "text": [
      "(393, 60)\n"
     ]
    },
    {
     "name": "stderr",
     "output_type": "stream",
     "text": [
      "/Users/willy/opt/anaconda3/envs/new_env/lib/python3.10/site-packages/keras/src/layers/rnn/rnn.py:204: UserWarning: Do not pass an `input_shape`/`input_dim` argument to a layer. When using Sequential models, prefer using an `Input(shape)` object as the first layer in the model instead.\n",
      "  super().__init__(**kwargs)\n"
     ]
    }
   ],
   "source": [
    "print(x_train.shape)\n",
    "\n",
    "model = keras.Sequential([\n",
    "    keras.layers.LSTM(64, input_shape=(sequence_length, x_train_reshaped.shape[2])),\n",
    "    keras.layers.Dense(1)\n",
    "])\n",
    "\n",
    "# Compilar el modelo\n",
    "model.compile(optimizer='adam', loss='mse')  # mse: Error cuadrático medio para regresión"
   ]
  },
  {
   "cell_type": "code",
   "execution_count": null,
   "metadata": {},
   "outputs": [
    {
     "name": "stdout",
     "output_type": "stream",
     "text": [
      "Epoch 1/50\n"
     ]
    },
    {
     "name": "stderr",
     "output_type": "stream",
     "text": [
      "2024-04-20 01:37:41.223154: I tensorflow/core/grappler/optimizers/custom_graph_optimizer_registry.cc:117] Plugin optimizer for device_type GPU is enabled.\n"
     ]
    }
   ],
   "source": [
    "epochs = 50\n",
    "batch_size = 32\n",
    "\n",
    "model.fit(train_dataset, epochs=epochs, batch_size=batch_size, validation_data=(x_val_reshaped, y_val))"
   ]
  },
  {
   "cell_type": "code",
   "execution_count": null,
   "metadata": {},
   "outputs": [],
   "source": [
    "model.summary()"
   ]
  },
  {
   "cell_type": "markdown",
   "metadata": {
    "id": "bcj_PpmG_ULI"
   },
   "source": [
    "# Evaluación del modelo"
   ]
  },
  {
   "cell_type": "code",
   "execution_count": null,
   "metadata": {
    "id": "_LOUmbYj_W-A"
   },
   "outputs": [],
   "source": [
    "loss = model.evaluate(x_test_reshaped, y_test)"
   ]
  },
  {
   "cell_type": "code",
   "execution_count": null,
   "metadata": {},
   "outputs": [],
   "source": [
    "predictions = model.predict(x_test)\n",
    "\n",
    "# Calcular MSE\n",
    "mse = mean_squared_error(y_test, predictions)\n",
    "\n",
    "# Calcular MAE\n",
    "mae = mean_absolute_error(y_test, predictions)\n",
    "\n",
    "# Calcular R^2\n",
    "r2 = r2_score(y_test, predictions)\n",
    "\n",
    "print(f'MSE: {mse}')\n",
    "print(f'MAE: {mae}')\n",
    "print(f'R^2: {r2}')"
   ]
  },
  {
   "cell_type": "markdown",
   "metadata": {
    "id": "wrtV_kRn_XeD"
   },
   "source": [
    "## Graficar resultados"
   ]
  },
  {
   "cell_type": "code",
   "execution_count": null,
   "metadata": {
    "id": "83f4mvGT_bYt"
   },
   "outputs": [],
   "source": [
    "# Graficar las predicciones vs los valores reales\n",
    "plt.figure(figsize=(10, 6))\n",
    "plt.plot(predictions, label='Predicciones', color='blue')\n",
    "plt.plot(y_test, label='Valores reales', color='red')\n",
    "plt.xlabel('Índice de muestra')\n",
    "plt.ylabel('Valor')\n",
    "plt.title('Predicciones vs Valores reales')\n",
    "plt.legend()\n",
    "plt.show()"
   ]
  }
 ],
 "metadata": {
  "colab": {
   "provenance": []
  },
  "kernelspec": {
   "display_name": "Python 3 (ipykernel)",
   "language": "python",
   "name": "python3"
  },
  "language_info": {
   "codemirror_mode": {
    "name": "ipython",
    "version": 3
   },
   "file_extension": ".py",
   "mimetype": "text/x-python",
   "name": "python",
   "nbconvert_exporter": "python",
   "pygments_lexer": "ipython3",
   "version": "3.10.13"
  }
 },
 "nbformat": 4,
 "nbformat_minor": 4
}
